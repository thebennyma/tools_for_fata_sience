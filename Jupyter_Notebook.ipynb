{
 "cells": [
  {
   "cell_type": "markdown",
   "metadata": {},
   "source": [
    "<center>\n",
    "    <img src=\"https://s3-api.us-geo.objectstorage.softlayer.net/cf-courses-data/CognitiveClass/Logos/organization_logo/organization_logo.png\" width=\"300\" alt=\"cognitiveclass.ai logo\"  />\n",
    "</center>\n"
   ]
  },
  {
   "cell_type": "markdown",
   "metadata": {
    "tags": []
   },
   "source": [
    "#### Add your code below following the instructions given in the course\n"
   ]
  },
  {
   "cell_type": "markdown",
   "metadata": {},
   "source": [
    "# My Jupyter Notebook on IBM Watson Studio"
   ]
  },
  {
   "cell_type": "markdown",
   "metadata": {},
   "source": [
    "###### My name is **Marco Alvarado** and I am a systems engineer."
   ]
  },
  {
   "cell_type": "markdown",
   "metadata": {},
   "source": [
    "######  <i> I am interested in data science because I find it very interesting how data works and how it can affect the world. Besides, data can be found everywhere.</i>"
   ]
  },
  {
   "cell_type": "markdown",
   "metadata": {},
   "source": [
    "### The small code shown below makes the addition of two numbers"
   ]
  },
  {
   "cell_type": "code",
   "execution_count": 3,
   "metadata": {},
   "outputs": [
    {
     "name": "stdout",
     "output_type": "stream",
     "text": [
      "3\n"
     ]
    }
   ],
   "source": [
    "n1 = 1\n",
    "n2 = 2\n",
    "\n",
    "suma = n1 + n2\n",
    "\n",
    "print(suma)"
   ]
  },
  {
   "cell_type": "markdown",
   "metadata": {},
   "source": [
    "<ol>\n",
    "    <li>What is Data Science</li>\n",
    "    <li>Tools for Data Science</li>\n",
    "    <li>Data Science Methodology</li>\n",
    "    <li>Databases and SQL for Data Science with Python</li>\n",
    "</ol>\n",
    "\n",
    "\n",
    "<table>\n",
    "<tr>\n",
    "<th>Name</th>\n",
    "<th>Address</th>\n",
    "<th>Salary</th>\n",
    "</tr>\n",
    "\n",
    "<tr>\n",
    "<td>Marco</td>\n",
    "<td>Brisbane</td>\n",
    "<td>4000</td>\n",
    "</tr>\n",
    "\n",
    "<tr>\n",
    "<td>Pedro</td>\n",
    "<td>Sydney</td>\n",
    "<td>5000</td>\n",
    "</tr>\n",
    "</table>\n",
    "\n",
    "\n",
     "<a href=\"https://www.ibm.com/mx-es\">Link to IBM</a>"
   ]
  },
  {
   "cell_type": "code",
   "execution_count": null,
   "metadata": {},
   "outputs": [],
   "source": []
  }
 ],
 "metadata": {
  "kernelspec": {
   "display_name": "Python",
   "language": "python",
   "name": "conda-env-python-py"
  },
  "language_info": {
   "codemirror_mode": {
    "name": "ipython",
    "version": 3
   },
   "file_extension": ".py",
   "mimetype": "text/x-python",
   "name": "python",
   "nbconvert_exporter": "python",
   "pygments_lexer": "ipython3",
   "version": "3.7.12"
  }
 },
 "nbformat": 4,
 "nbformat_minor": 4
}
